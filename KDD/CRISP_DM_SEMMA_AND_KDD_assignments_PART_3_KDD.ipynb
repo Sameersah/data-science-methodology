{
  "nbformat": 4,
  "nbformat_minor": 0,
  "metadata": {
    "colab": {
      "provenance": [],
      "authorship_tag": "ABX9TyNF5t0sDuhajbkElkLSk/QC",
      "include_colab_link": true
    },
    "kernelspec": {
      "name": "python3",
      "display_name": "Python 3"
    },
    "language_info": {
      "name": "python"
    }
  },
  "cells": [
    {
      "cell_type": "markdown",
      "metadata": {
        "id": "view-in-github",
        "colab_type": "text"
      },
      "source": [
        "<a href=\"https://colab.research.google.com/github/Sameersah/data-science-methodology/blob/main/KDD/CRISP_DM_SEMMA_AND_KDD_assignments_PART_3_KDD.ipynb\" target=\"_parent\"><img src=\"https://colab.research.google.com/assets/colab-badge.svg\" alt=\"Open In Colab\"/></a>"
      ]
    },
    {
      "cell_type": "markdown",
      "source": [
        "# KDD\n",
        "\n",
        "The Knowledge Discovery in Databases (KDD) process is a structured approach to extracting meaningful insights and patterns from large datasets, often used in data mining. KDD is essential when dealing with complex and extensive datasets where a clear understanding of hidden patterns can provide valuable insights or solutions.\n",
        "\n",
        "### Phases of KDD:\n",
        "1. **Selection**: Identify and gather relevant data from multiple sources to create a focused dataset.\n",
        "2. **Preprocessing**: Clean and preprocess the data to handle missing values, remove inconsistencies, and address noise to ensure data quality.\n",
        "3. **Transformation**: Transform the data into suitable formats for analysis, including feature selection or reduction to simplify and enhance the dataset.\n",
        "4. **Data Mining**: Apply statistical or machine learning techniques to uncover patterns, associations, or correlations within the data.\n",
        "5. **Interpretation/Evaluation**: Analyze and interpret the results, validating the findings to ensure they make sense and are useful.\n",
        "\n",
        "### When to Use KDD:\n",
        "KDD is ideal for projects where large datasets need deep, nuanced insights. It’s particularly valuable in applications like fraud detection, customer segmentation, recommendation systems, and any domain requiring complex pattern recognition.\n",
        "\n",
        "This methodology ensures that raw data is carefully processed to derive actionable insights, making it a strong choice for data science projects where data-driven decisions are paramount."
      ],
      "metadata": {
        "id": "63jWmD4NBsI7"
      }
    },
    {
      "cell_type": "markdown",
      "source": [
        "# Project Overview\n",
        "For this project, the objective will be to uncover patterns and trends in the annual death rate data, with a potential focus on age-related mortality trends over time."
      ],
      "metadata": {
        "id": "GBfh7qUOEnQ_"
      }
    },
    {
      "cell_type": "markdown",
      "source": [
        "# Selection:\n",
        "In this phase, we selected relevant columns from the dataset, focusing on age group, year, and death rate. These variables are central to analyzing trends in mortality rates across different age groups and over time. This selection will enable us to streamline the dataset for further processing and knowledge extraction."
      ],
      "metadata": {
        "id": "lO_2IP1pDli1"
      }
    },
    {
      "cell_type": "code",
      "source": [
        "## Connect to google drive\n",
        "from google.colab import drive\n",
        "drive.mount('/content/drive')\n"
      ],
      "metadata": {
        "colab": {
          "base_uri": "https://localhost:8080/"
        },
        "id": "Hhi8XeFfE5jp",
        "outputId": "385a7fbb-c19f-4d1a-9dda-b4259caaf827"
      },
      "execution_count": 9,
      "outputs": [
        {
          "output_type": "stream",
          "name": "stdout",
          "text": [
            "Drive already mounted at /content/drive; to attempt to forcibly remount, call drive.mount(\"/content/drive\", force_remount=True).\n"
          ]
        }
      ]
    },
    {
      "cell_type": "code",
      "execution_count": 10,
      "metadata": {
        "id": "YRCaUf5gBm1i",
        "colab": {
          "base_uri": "https://localhost:8080/"
        },
        "outputId": "4a9f9414-1f47-46f8-9b33-29843d0a4459"
      },
      "outputs": [
        {
          "output_type": "stream",
          "name": "stdout",
          "text": [
            "<class 'pandas.core.frame.DataFrame'>\n",
            "RangeIndex: 700 entries, 0 to 699\n",
            "Data columns (total 11 columns):\n",
            " #   Column                      Non-Null Count  Dtype  \n",
            "---  ------                      --------------  -----  \n",
            " 0   User ID                     700 non-null    int64  \n",
            " 1   Device Model                700 non-null    object \n",
            " 2   Operating System            700 non-null    object \n",
            " 3   App Usage Time (min/day)    700 non-null    int64  \n",
            " 4   Screen On Time (hours/day)  700 non-null    float64\n",
            " 5   Battery Drain (mAh/day)     700 non-null    int64  \n",
            " 6   Number of Apps Installed    700 non-null    int64  \n",
            " 7   Data Usage (MB/day)         700 non-null    int64  \n",
            " 8   Age                         700 non-null    int64  \n",
            " 9   Gender                      700 non-null    object \n",
            " 10  User Behavior Class         700 non-null    int64  \n",
            "dtypes: float64(1), int64(7), object(3)\n",
            "memory usage: 60.3+ KB\n",
            "None\n"
          ]
        }
      ],
      "source": [
        "import pandas as pd\n",
        "\n",
        "# Load the dataset\n",
        "data = pd.read_csv('/content/drive/MyDrive/CMPE-255/user_behavior_dataset.csv')\n",
        "\n",
        "# Inspect the dataset structure and first few rows\n",
        "print(data.info())\n",
        "\n",
        "\n",
        "\n"
      ]
    },
    {
      "cell_type": "code",
      "source": [
        "print(data.head())"
      ],
      "metadata": {
        "colab": {
          "base_uri": "https://localhost:8080/"
        },
        "id": "FVRy6oFEH-Ps",
        "outputId": "aa410287-7aa6-4027-cb6d-d415381695dc"
      },
      "execution_count": 11,
      "outputs": [
        {
          "output_type": "stream",
          "name": "stdout",
          "text": [
            "   User ID    Device Model Operating System  App Usage Time (min/day)  \\\n",
            "0        1  Google Pixel 5          Android                       393   \n",
            "1        2       OnePlus 9          Android                       268   \n",
            "2        3    Xiaomi Mi 11          Android                       154   \n",
            "3        4  Google Pixel 5          Android                       239   \n",
            "4        5       iPhone 12              iOS                       187   \n",
            "\n",
            "   Screen On Time (hours/day)  Battery Drain (mAh/day)  \\\n",
            "0                         6.4                     1872   \n",
            "1                         4.7                     1331   \n",
            "2                         4.0                      761   \n",
            "3                         4.8                     1676   \n",
            "4                         4.3                     1367   \n",
            "\n",
            "   Number of Apps Installed  Data Usage (MB/day)  Age  Gender  \\\n",
            "0                        67                 1122   40    Male   \n",
            "1                        42                  944   47  Female   \n",
            "2                        32                  322   42    Male   \n",
            "3                        56                  871   20    Male   \n",
            "4                        58                  988   31  Female   \n",
            "\n",
            "   User Behavior Class  \n",
            "0                    4  \n",
            "1                    3  \n",
            "2                    2  \n",
            "3                    3  \n",
            "4                    3  \n"
          ]
        }
      ]
    },
    {
      "cell_type": "code",
      "source": [
        "# Display column names to identify the exact names in the dataset\n",
        "print(data.columns)"
      ],
      "metadata": {
        "colab": {
          "base_uri": "https://localhost:8080/"
        },
        "id": "RcFBp1SEIztA",
        "outputId": "43ff19a8-8ed0-430a-ce63-b10e6da69175"
      },
      "execution_count": 12,
      "outputs": [
        {
          "output_type": "stream",
          "name": "stdout",
          "text": [
            "Index(['User ID', 'Device Model', 'Operating System',\n",
            "       'App Usage Time (min/day)', 'Screen On Time (hours/day)',\n",
            "       'Battery Drain (mAh/day)', 'Number of Apps Installed',\n",
            "       'Data Usage (MB/day)', 'Age', 'Gender', 'User Behavior Class'],\n",
            "      dtype='object')\n"
          ]
        }
      ]
    },
    {
      "cell_type": "markdown",
      "source": [
        "## Data Preprocessing\n",
        "\n",
        "Data preprocessing is the second step in the KDD methodology. This involves handling missing values, converting data types for consistency, removing duplicates, and identifying outliers. These steps ensure the data is clean and ready for analysis, which is essential for obtaining reliable insights in the subsequent steps."
      ],
      "metadata": {
        "id": "PYLv4sS0YP2K"
      }
    },
    {
      "cell_type": "code",
      "source": [
        "# Separate numeric and non-numeric columns\n",
        "numeric_cols = data.select_dtypes(include=['float64', 'int64']).columns\n",
        "non_numeric_cols = data.select_dtypes(exclude=['float64', 'int64']).columns\n",
        "\n",
        "# Fill missing values in numeric columns with the mean\n",
        "data[numeric_cols] = data[numeric_cols].fillna(data[numeric_cols].mean())\n",
        "\n",
        "# Fill missing values in non-numeric columns with the mode (most frequent value)\n",
        "for col in non_numeric_cols:\n",
        "    data[col] = data[col].fillna(data[col].mode()[0])\n",
        "\n",
        "# Verify if missing values are handled\n",
        "print(\"Missing values after filling:\\n\", data.isnull().sum())\n"
      ],
      "metadata": {
        "colab": {
          "base_uri": "https://localhost:8080/"
        },
        "id": "6F-vcCzTH9ib",
        "outputId": "ea877670-29d0-45b2-d8b2-8ecb1090f653"
      },
      "execution_count": 14,
      "outputs": [
        {
          "output_type": "stream",
          "name": "stdout",
          "text": [
            "Missing values after filling:\n",
            " User ID                       0\n",
            "Device Model                  0\n",
            "Operating System              0\n",
            "App Usage Time (min/day)      0\n",
            "Screen On Time (hours/day)    0\n",
            "Battery Drain (mAh/day)       0\n",
            "Number of Apps Installed      0\n",
            "Data Usage (MB/day)           0\n",
            "Age                           0\n",
            "Gender                        0\n",
            "User Behavior Class           0\n",
            "dtype: int64\n"
          ]
        }
      ]
    },
    {
      "cell_type": "markdown",
      "source": [
        "\n",
        "## Data Transforamtion\n",
        "\n",
        "In this step, data transformation is conducted to prepare the dataset for analysis and modeling. Categorical variables are encoded into numerical format, ensuring that all features are suitable for machine learning algorithms. Additionally, numerical features are standardized to bring them to a common scale, enhancing the performance of certain algorithms. These transformations provide a more structured dataset for modeling."
      ],
      "metadata": {
        "id": "UkW31gNjYvCe"
      }
    },
    {
      "cell_type": "code",
      "source": [
        "from sklearn.preprocessing import LabelEncoder, StandardScaler\n",
        "\n",
        "# Encode categorical variables using LabelEncoder\n",
        "label_encoders = {}\n",
        "for col in non_numeric_cols:\n",
        "    le = LabelEncoder()\n",
        "    data[col] = le.fit_transform(data[col])\n",
        "    label_encoders[col] = le  # Save encoder for future reference\n",
        "\n",
        "# Normalize numerical columns\n",
        "scaler = StandardScaler()\n",
        "data[numeric_cols] = scaler.fit_transform(data[numeric_cols])\n",
        "\n",
        "# Display the transformed dataset\n",
        "data.head()\n"
      ],
      "metadata": {
        "colab": {
          "base_uri": "https://localhost:8080/",
          "height": 241
        },
        "id": "STbgUOiWYzU_",
        "outputId": "9999c235-838e-448e-fbaa-ec6f5bc831b8"
      },
      "execution_count": 15,
      "outputs": [
        {
          "output_type": "execute_result",
          "data": {
            "text/plain": [
              "    User ID  Device Model  Operating System  App Usage Time (min/day)  \\\n",
              "0 -1.729578             0                 0                  0.688256   \n",
              "1 -1.724629             1                 0                 -0.017668   \n",
              "2 -1.719681             3                 0                 -0.661471   \n",
              "3 -1.714732             0                 0                 -0.181443   \n",
              "4 -1.709783             4                 1                 -0.475107   \n",
              "\n",
              "   Screen On Time (hours/day)  Battery Drain (mAh/day)  \\\n",
              "0                    0.367626                 0.423726   \n",
              "1                   -0.186771                -0.237198   \n",
              "2                   -0.415053                -0.933550   \n",
              "3                   -0.154160                 0.184279   \n",
              "4                   -0.317218                -0.193218   \n",
              "\n",
              "   Number of Apps Installed  Data Usage (MB/day)       Age  Gender  \\\n",
              "0                  0.606096             0.300405  0.126383       1   \n",
              "1                 -0.322441             0.022277  0.709506       0   \n",
              "2                 -0.693856            -0.949607  0.292989       1   \n",
              "3                  0.197540            -0.091787 -1.539682       1   \n",
              "4                  0.271823             0.091028 -0.623346       0   \n",
              "\n",
              "   User Behavior Class  \n",
              "0             0.721184  \n",
              "1             0.007140  \n",
              "2            -0.706903  \n",
              "3             0.007140  \n",
              "4             0.007140  "
            ],
            "text/html": [
              "\n",
              "  <div id=\"df-f2e18360-b44e-4ab3-a080-ee530b5743f7\" class=\"colab-df-container\">\n",
              "    <div>\n",
              "<style scoped>\n",
              "    .dataframe tbody tr th:only-of-type {\n",
              "        vertical-align: middle;\n",
              "    }\n",
              "\n",
              "    .dataframe tbody tr th {\n",
              "        vertical-align: top;\n",
              "    }\n",
              "\n",
              "    .dataframe thead th {\n",
              "        text-align: right;\n",
              "    }\n",
              "</style>\n",
              "<table border=\"1\" class=\"dataframe\">\n",
              "  <thead>\n",
              "    <tr style=\"text-align: right;\">\n",
              "      <th></th>\n",
              "      <th>User ID</th>\n",
              "      <th>Device Model</th>\n",
              "      <th>Operating System</th>\n",
              "      <th>App Usage Time (min/day)</th>\n",
              "      <th>Screen On Time (hours/day)</th>\n",
              "      <th>Battery Drain (mAh/day)</th>\n",
              "      <th>Number of Apps Installed</th>\n",
              "      <th>Data Usage (MB/day)</th>\n",
              "      <th>Age</th>\n",
              "      <th>Gender</th>\n",
              "      <th>User Behavior Class</th>\n",
              "    </tr>\n",
              "  </thead>\n",
              "  <tbody>\n",
              "    <tr>\n",
              "      <th>0</th>\n",
              "      <td>-1.729578</td>\n",
              "      <td>0</td>\n",
              "      <td>0</td>\n",
              "      <td>0.688256</td>\n",
              "      <td>0.367626</td>\n",
              "      <td>0.423726</td>\n",
              "      <td>0.606096</td>\n",
              "      <td>0.300405</td>\n",
              "      <td>0.126383</td>\n",
              "      <td>1</td>\n",
              "      <td>0.721184</td>\n",
              "    </tr>\n",
              "    <tr>\n",
              "      <th>1</th>\n",
              "      <td>-1.724629</td>\n",
              "      <td>1</td>\n",
              "      <td>0</td>\n",
              "      <td>-0.017668</td>\n",
              "      <td>-0.186771</td>\n",
              "      <td>-0.237198</td>\n",
              "      <td>-0.322441</td>\n",
              "      <td>0.022277</td>\n",
              "      <td>0.709506</td>\n",
              "      <td>0</td>\n",
              "      <td>0.007140</td>\n",
              "    </tr>\n",
              "    <tr>\n",
              "      <th>2</th>\n",
              "      <td>-1.719681</td>\n",
              "      <td>3</td>\n",
              "      <td>0</td>\n",
              "      <td>-0.661471</td>\n",
              "      <td>-0.415053</td>\n",
              "      <td>-0.933550</td>\n",
              "      <td>-0.693856</td>\n",
              "      <td>-0.949607</td>\n",
              "      <td>0.292989</td>\n",
              "      <td>1</td>\n",
              "      <td>-0.706903</td>\n",
              "    </tr>\n",
              "    <tr>\n",
              "      <th>3</th>\n",
              "      <td>-1.714732</td>\n",
              "      <td>0</td>\n",
              "      <td>0</td>\n",
              "      <td>-0.181443</td>\n",
              "      <td>-0.154160</td>\n",
              "      <td>0.184279</td>\n",
              "      <td>0.197540</td>\n",
              "      <td>-0.091787</td>\n",
              "      <td>-1.539682</td>\n",
              "      <td>1</td>\n",
              "      <td>0.007140</td>\n",
              "    </tr>\n",
              "    <tr>\n",
              "      <th>4</th>\n",
              "      <td>-1.709783</td>\n",
              "      <td>4</td>\n",
              "      <td>1</td>\n",
              "      <td>-0.475107</td>\n",
              "      <td>-0.317218</td>\n",
              "      <td>-0.193218</td>\n",
              "      <td>0.271823</td>\n",
              "      <td>0.091028</td>\n",
              "      <td>-0.623346</td>\n",
              "      <td>0</td>\n",
              "      <td>0.007140</td>\n",
              "    </tr>\n",
              "  </tbody>\n",
              "</table>\n",
              "</div>\n",
              "    <div class=\"colab-df-buttons\">\n",
              "\n",
              "  <div class=\"colab-df-container\">\n",
              "    <button class=\"colab-df-convert\" onclick=\"convertToInteractive('df-f2e18360-b44e-4ab3-a080-ee530b5743f7')\"\n",
              "            title=\"Convert this dataframe to an interactive table.\"\n",
              "            style=\"display:none;\">\n",
              "\n",
              "  <svg xmlns=\"http://www.w3.org/2000/svg\" height=\"24px\" viewBox=\"0 -960 960 960\">\n",
              "    <path d=\"M120-120v-720h720v720H120Zm60-500h600v-160H180v160Zm220 220h160v-160H400v160Zm0 220h160v-160H400v160ZM180-400h160v-160H180v160Zm440 0h160v-160H620v160ZM180-180h160v-160H180v160Zm440 0h160v-160H620v160Z\"/>\n",
              "  </svg>\n",
              "    </button>\n",
              "\n",
              "  <style>\n",
              "    .colab-df-container {\n",
              "      display:flex;\n",
              "      gap: 12px;\n",
              "    }\n",
              "\n",
              "    .colab-df-convert {\n",
              "      background-color: #E8F0FE;\n",
              "      border: none;\n",
              "      border-radius: 50%;\n",
              "      cursor: pointer;\n",
              "      display: none;\n",
              "      fill: #1967D2;\n",
              "      height: 32px;\n",
              "      padding: 0 0 0 0;\n",
              "      width: 32px;\n",
              "    }\n",
              "\n",
              "    .colab-df-convert:hover {\n",
              "      background-color: #E2EBFA;\n",
              "      box-shadow: 0px 1px 2px rgba(60, 64, 67, 0.3), 0px 1px 3px 1px rgba(60, 64, 67, 0.15);\n",
              "      fill: #174EA6;\n",
              "    }\n",
              "\n",
              "    .colab-df-buttons div {\n",
              "      margin-bottom: 4px;\n",
              "    }\n",
              "\n",
              "    [theme=dark] .colab-df-convert {\n",
              "      background-color: #3B4455;\n",
              "      fill: #D2E3FC;\n",
              "    }\n",
              "\n",
              "    [theme=dark] .colab-df-convert:hover {\n",
              "      background-color: #434B5C;\n",
              "      box-shadow: 0px 1px 3px 1px rgba(0, 0, 0, 0.15);\n",
              "      filter: drop-shadow(0px 1px 2px rgba(0, 0, 0, 0.3));\n",
              "      fill: #FFFFFF;\n",
              "    }\n",
              "  </style>\n",
              "\n",
              "    <script>\n",
              "      const buttonEl =\n",
              "        document.querySelector('#df-f2e18360-b44e-4ab3-a080-ee530b5743f7 button.colab-df-convert');\n",
              "      buttonEl.style.display =\n",
              "        google.colab.kernel.accessAllowed ? 'block' : 'none';\n",
              "\n",
              "      async function convertToInteractive(key) {\n",
              "        const element = document.querySelector('#df-f2e18360-b44e-4ab3-a080-ee530b5743f7');\n",
              "        const dataTable =\n",
              "          await google.colab.kernel.invokeFunction('convertToInteractive',\n",
              "                                                    [key], {});\n",
              "        if (!dataTable) return;\n",
              "\n",
              "        const docLinkHtml = 'Like what you see? Visit the ' +\n",
              "          '<a target=\"_blank\" href=https://colab.research.google.com/notebooks/data_table.ipynb>data table notebook</a>'\n",
              "          + ' to learn more about interactive tables.';\n",
              "        element.innerHTML = '';\n",
              "        dataTable['output_type'] = 'display_data';\n",
              "        await google.colab.output.renderOutput(dataTable, element);\n",
              "        const docLink = document.createElement('div');\n",
              "        docLink.innerHTML = docLinkHtml;\n",
              "        element.appendChild(docLink);\n",
              "      }\n",
              "    </script>\n",
              "  </div>\n",
              "\n",
              "\n",
              "<div id=\"df-96882ba4-7b2a-4c5e-b736-fa038a7beabc\">\n",
              "  <button class=\"colab-df-quickchart\" onclick=\"quickchart('df-96882ba4-7b2a-4c5e-b736-fa038a7beabc')\"\n",
              "            title=\"Suggest charts\"\n",
              "            style=\"display:none;\">\n",
              "\n",
              "<svg xmlns=\"http://www.w3.org/2000/svg\" height=\"24px\"viewBox=\"0 0 24 24\"\n",
              "     width=\"24px\">\n",
              "    <g>\n",
              "        <path d=\"M19 3H5c-1.1 0-2 .9-2 2v14c0 1.1.9 2 2 2h14c1.1 0 2-.9 2-2V5c0-1.1-.9-2-2-2zM9 17H7v-7h2v7zm4 0h-2V7h2v10zm4 0h-2v-4h2v4z\"/>\n",
              "    </g>\n",
              "</svg>\n",
              "  </button>\n",
              "\n",
              "<style>\n",
              "  .colab-df-quickchart {\n",
              "      --bg-color: #E8F0FE;\n",
              "      --fill-color: #1967D2;\n",
              "      --hover-bg-color: #E2EBFA;\n",
              "      --hover-fill-color: #174EA6;\n",
              "      --disabled-fill-color: #AAA;\n",
              "      --disabled-bg-color: #DDD;\n",
              "  }\n",
              "\n",
              "  [theme=dark] .colab-df-quickchart {\n",
              "      --bg-color: #3B4455;\n",
              "      --fill-color: #D2E3FC;\n",
              "      --hover-bg-color: #434B5C;\n",
              "      --hover-fill-color: #FFFFFF;\n",
              "      --disabled-bg-color: #3B4455;\n",
              "      --disabled-fill-color: #666;\n",
              "  }\n",
              "\n",
              "  .colab-df-quickchart {\n",
              "    background-color: var(--bg-color);\n",
              "    border: none;\n",
              "    border-radius: 50%;\n",
              "    cursor: pointer;\n",
              "    display: none;\n",
              "    fill: var(--fill-color);\n",
              "    height: 32px;\n",
              "    padding: 0;\n",
              "    width: 32px;\n",
              "  }\n",
              "\n",
              "  .colab-df-quickchart:hover {\n",
              "    background-color: var(--hover-bg-color);\n",
              "    box-shadow: 0 1px 2px rgba(60, 64, 67, 0.3), 0 1px 3px 1px rgba(60, 64, 67, 0.15);\n",
              "    fill: var(--button-hover-fill-color);\n",
              "  }\n",
              "\n",
              "  .colab-df-quickchart-complete:disabled,\n",
              "  .colab-df-quickchart-complete:disabled:hover {\n",
              "    background-color: var(--disabled-bg-color);\n",
              "    fill: var(--disabled-fill-color);\n",
              "    box-shadow: none;\n",
              "  }\n",
              "\n",
              "  .colab-df-spinner {\n",
              "    border: 2px solid var(--fill-color);\n",
              "    border-color: transparent;\n",
              "    border-bottom-color: var(--fill-color);\n",
              "    animation:\n",
              "      spin 1s steps(1) infinite;\n",
              "  }\n",
              "\n",
              "  @keyframes spin {\n",
              "    0% {\n",
              "      border-color: transparent;\n",
              "      border-bottom-color: var(--fill-color);\n",
              "      border-left-color: var(--fill-color);\n",
              "    }\n",
              "    20% {\n",
              "      border-color: transparent;\n",
              "      border-left-color: var(--fill-color);\n",
              "      border-top-color: var(--fill-color);\n",
              "    }\n",
              "    30% {\n",
              "      border-color: transparent;\n",
              "      border-left-color: var(--fill-color);\n",
              "      border-top-color: var(--fill-color);\n",
              "      border-right-color: var(--fill-color);\n",
              "    }\n",
              "    40% {\n",
              "      border-color: transparent;\n",
              "      border-right-color: var(--fill-color);\n",
              "      border-top-color: var(--fill-color);\n",
              "    }\n",
              "    60% {\n",
              "      border-color: transparent;\n",
              "      border-right-color: var(--fill-color);\n",
              "    }\n",
              "    80% {\n",
              "      border-color: transparent;\n",
              "      border-right-color: var(--fill-color);\n",
              "      border-bottom-color: var(--fill-color);\n",
              "    }\n",
              "    90% {\n",
              "      border-color: transparent;\n",
              "      border-bottom-color: var(--fill-color);\n",
              "    }\n",
              "  }\n",
              "</style>\n",
              "\n",
              "  <script>\n",
              "    async function quickchart(key) {\n",
              "      const quickchartButtonEl =\n",
              "        document.querySelector('#' + key + ' button');\n",
              "      quickchartButtonEl.disabled = true;  // To prevent multiple clicks.\n",
              "      quickchartButtonEl.classList.add('colab-df-spinner');\n",
              "      try {\n",
              "        const charts = await google.colab.kernel.invokeFunction(\n",
              "            'suggestCharts', [key], {});\n",
              "      } catch (error) {\n",
              "        console.error('Error during call to suggestCharts:', error);\n",
              "      }\n",
              "      quickchartButtonEl.classList.remove('colab-df-spinner');\n",
              "      quickchartButtonEl.classList.add('colab-df-quickchart-complete');\n",
              "    }\n",
              "    (() => {\n",
              "      let quickchartButtonEl =\n",
              "        document.querySelector('#df-96882ba4-7b2a-4c5e-b736-fa038a7beabc button');\n",
              "      quickchartButtonEl.style.display =\n",
              "        google.colab.kernel.accessAllowed ? 'block' : 'none';\n",
              "    })();\n",
              "  </script>\n",
              "</div>\n",
              "\n",
              "    </div>\n",
              "  </div>\n"
            ],
            "application/vnd.google.colaboratory.intrinsic+json": {
              "type": "dataframe",
              "variable_name": "data",
              "summary": "{\n  \"name\": \"data\",\n  \"rows\": 700,\n  \"fields\": [\n    {\n      \"column\": \"User ID\",\n      \"properties\": {\n        \"dtype\": \"number\",\n        \"std\": 1.000715051932627,\n        \"min\": -1.7295782141489795,\n        \"max\": 1.7295782141489795,\n        \"num_unique_values\": 700,\n        \"samples\": [\n          -0.9476801945909288,\n          0.7447826072372573,\n          0.23011555638892003\n        ],\n        \"semantic_type\": \"\",\n        \"description\": \"\"\n      }\n    },\n    {\n      \"column\": \"Device Model\",\n      \"properties\": {\n        \"dtype\": \"number\",\n        \"std\": 1,\n        \"min\": 0,\n        \"max\": 4,\n        \"num_unique_values\": 5,\n        \"samples\": [\n          1,\n          2,\n          3\n        ],\n        \"semantic_type\": \"\",\n        \"description\": \"\"\n      }\n    },\n    {\n      \"column\": \"Operating System\",\n      \"properties\": {\n        \"dtype\": \"number\",\n        \"std\": 0,\n        \"min\": 0,\n        \"max\": 1,\n        \"num_unique_values\": 2,\n        \"samples\": [\n          1,\n          0\n        ],\n        \"semantic_type\": \"\",\n        \"description\": \"\"\n      }\n    },\n    {\n      \"column\": \"App Usage Time (min/day)\",\n      \"properties\": {\n        \"dtype\": \"number\",\n        \"std\": 1.0007150519326282,\n        \"min\": -1.3617477032748802,\n        \"max\": 1.8459712778382922,\n        \"num_unique_values\": 387,\n        \"samples\": [\n          1.7556129966801746,\n          0.7390823336513523\n        ],\n        \"semantic_type\": \"\",\n        \"description\": \"\"\n      }\n    },\n    {\n      \"column\": \"Screen On Time (hours/day)\",\n      \"properties\": {\n        \"dtype\": \"number\",\n        \"std\": 1.0007150519326267,\n        \"min\": -1.3934015243992774,\n        \"max\": 2.193877133487792,\n        \"num_unique_values\": 108,\n        \"samples\": [\n          1.8025376435364757,\n          -1.2629550277488386\n        ],\n        \"semantic_type\": \"\",\n        \"description\": \"\"\n      }\n    },\n    {\n      \"column\": \"Battery Drain (mAh/day)\",\n      \"properties\": {\n        \"dtype\": \"number\",\n        \"std\": 1.0007150519326278,\n        \"min\": -1.4942971301213828,\n        \"max\": 1.7932190358816806,\n        \"num_unique_values\": 628,\n        \"samples\": [\n          1.3094373927240393,\n          0.13052505523130187\n        ],\n        \"semantic_type\": \"\",\n        \"description\": \"\"\n      }\n    },\n    {\n      \"column\": \"Number of Apps Installed\",\n      \"properties\": {\n        \"dtype\": \"number\",\n        \"std\": 1.0007150519326278,\n        \"min\": -1.5109686422678754,\n        \"max\": 1.794623464108802,\n        \"num_unique_values\": 86,\n        \"samples\": [\n          1.0517937772825823,\n          0.6060959651868506\n        ],\n        \"semantic_type\": \"\",\n        \"description\": \"\"\n      }\n    },\n    {\n      \"column\": \"Data Usage (MB/day)\",\n      \"properties\": {\n        \"dtype\": \"number\",\n        \"std\": 1.000715051932627,\n        \"min\": -1.2933601372466714,\n        \"max\": 2.4488618607755654,\n        \"num_unique_values\": 585,\n        \"samples\": [\n          -0.14178702136258423,\n          -0.2574130872722483\n        ],\n        \"semantic_type\": \"\",\n        \"description\": \"\"\n      }\n    },\n    {\n      \"column\": \"Age\",\n      \"properties\": {\n        \"dtype\": \"number\",\n        \"std\": 1.000715051932628,\n        \"min\": -1.7062887616318365,\n        \"max\": 1.7091448733823713,\n        \"num_unique_values\": 42,\n        \"samples\": [\n          1.4592350952106,\n          -1.0398626865071132\n        ],\n        \"semantic_type\": \"\",\n        \"description\": \"\"\n      }\n    },\n    {\n      \"column\": \"Gender\",\n      \"properties\": {\n        \"dtype\": \"number\",\n        \"std\": 0,\n        \"min\": 0,\n        \"max\": 1,\n        \"num_unique_values\": 2,\n        \"samples\": [\n          0,\n          1\n        ],\n        \"semantic_type\": \"\",\n        \"description\": \"\"\n      }\n    },\n    {\n      \"column\": \"User Behavior Class\",\n      \"properties\": {\n        \"dtype\": \"number\",\n        \"std\": 1.0007150519326296,\n        \"min\": -1.4209470638096833,\n        \"max\": 1.4352279388228457,\n        \"num_unique_values\": 5,\n        \"samples\": [\n          0.007140437506581171,\n          -1.4209470638096833\n        ],\n        \"semantic_type\": \"\",\n        \"description\": \"\"\n      }\n    }\n  ]\n}"
            }
          },
          "metadata": {},
          "execution_count": 15
        }
      ]
    },
    {
      "cell_type": "markdown",
      "source": [
        "## Data Mining\n",
        "\n",
        "n the data mining step, we apply machine learning techniques to identify patterns and build predictive models. We select a target variable based on the problem’s requirements and split the dataset into training and testing sets. A random forest classifier is used as a baseline model to predict the target variable, and we evaluate its performance using metrics like accuracy and a classification report."
      ],
      "metadata": {
        "id": "1Hs5KDBVZH-7"
      }
    },
    {
      "cell_type": "code",
      "source": [
        "from sklearn.model_selection import train_test_split\n",
        "from sklearn.ensemble import RandomForestClassifier\n",
        "from sklearn.metrics import accuracy_score, classification_report\n",
        "\n",
        "# Define the target variable and features\n",
        "target_variable = 'Operating System'\n",
        "X = data.drop(columns=[target_variable, 'User ID'])  # Drop non-predictive columns like 'User ID'\n",
        "y = data[target_variable]\n",
        "\n",
        "# Split the dataset into training and testing sets\n",
        "X_train, X_test, y_train, y_test = train_test_split(X, y, test_size=0.3, random_state=42)\n",
        "\n",
        "# Initialize and train the model\n",
        "model = RandomForestClassifier(random_state=42)\n",
        "model.fit(X_train, y_train)\n",
        "\n",
        "# Predict on the test set\n",
        "y_pred = model.predict(X_test)\n",
        "\n",
        "# Evaluate the model\n",
        "print(\"Accuracy:\", accuracy_score(y_test, y_pred))\n",
        "print(\"Classification Report:\\n\", classification_report(y_test, y_pred))\n"
      ],
      "metadata": {
        "colab": {
          "base_uri": "https://localhost:8080/"
        },
        "id": "ZKlfLf6ZZUVY",
        "outputId": "60fa8d84-b4d3-4771-deb0-b75710078c57"
      },
      "execution_count": 20,
      "outputs": [
        {
          "output_type": "stream",
          "name": "stdout",
          "text": [
            "Accuracy: 1.0\n",
            "Classification Report:\n",
            "               precision    recall  f1-score   support\n",
            "\n",
            "           0       1.00      1.00      1.00       165\n",
            "           1       1.00      1.00      1.00        45\n",
            "\n",
            "    accuracy                           1.00       210\n",
            "   macro avg       1.00      1.00      1.00       210\n",
            "weighted avg       1.00      1.00      1.00       210\n",
            "\n"
          ]
        }
      ]
    },
    {
      "cell_type": "markdown",
      "source": [
        "## Interpretation\n",
        "\n",
        "The interpretation and knowledge discovery step focuses on deriving insights from the model’s predictions. We analyze feature importance to determine which factors most influence the prediction of the operating system. This reveals the behavioral or demographic traits most strongly associated with different operating systems. Additionally, evaluating metrics such as accuracy and precision provides a measure of the model’s effectiveness in distinguishing between operating systems."
      ],
      "metadata": {
        "id": "SI9NaOGEaZeC"
      }
    },
    {
      "cell_type": "code",
      "source": [
        "import matplotlib.pyplot as plt\n",
        "import numpy as np\n",
        "\n",
        "# Check feature importance from the trained random forest model\n",
        "feature_importances = model.feature_importances_\n",
        "features = X.columns\n",
        "\n",
        "# Sort and plot feature importances\n",
        "indices = np.argsort(feature_importances)[::-1]\n",
        "plt.figure(figsize=(10, 6))\n",
        "plt.title(\"Feature Importance for Operating System Prediction\")\n",
        "plt.bar(range(X.shape[1]), feature_importances[indices], align=\"center\")\n",
        "plt.xticks(range(X.shape[1]), [features[i] for i in indices], rotation=90)\n",
        "plt.xlabel(\"Feature\")\n",
        "plt.ylabel(\"Importance Score\")\n",
        "plt.show()\n"
      ],
      "metadata": {
        "colab": {
          "base_uri": "https://localhost:8080/",
          "height": 745
        },
        "id": "Na4avDElaawb",
        "outputId": "6178035a-56e1-41db-b95e-b0b1df4a78cf"
      },
      "execution_count": 21,
      "outputs": [
        {
          "output_type": "display_data",
          "data": {
            "text/plain": [
              "<Figure size 1000x600 with 1 Axes>"
            ],
            "image/png": "[encoded data removed]"
          },
          "metadata": {}
        }
      ]
    }
  ]
}